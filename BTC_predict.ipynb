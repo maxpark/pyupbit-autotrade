{
  "cells": [
    {
      "cell_type": "markdown",
      "metadata": {
        "colab_type": "text",
        "id": "view-in-github"
      },
      "source": [
        "<a href=\"https://colab.research.google.com/github/youtube-jocoding/pyupbit-autotrade/blob/main/BTC_predict.ipynb\" target=\"_parent\"><img src=\"https://colab.research.google.com/assets/colab-badge.svg\" alt=\"Open In Colab\"/></a>"
      ]
    },
    {
      "cell_type": "code",
      "execution_count": 14,
      "metadata": {
        "id": "HV0SrOgcHMw_"
      },
      "outputs": [
        {
          "name": "stdout",
          "output_type": "stream",
          "text": [
            "Requirement already satisfied: pyupbit in /home/max/anaconda3/lib/python3.6/site-packages (0.2.21)\n",
            "Requirement already satisfied: pyjwt>=2.0.0 in /home/max/anaconda3/lib/python3.6/site-packages (from pyupbit) (2.3.0)\n",
            "Requirement already satisfied: requests in /home/max/anaconda3/lib/python3.6/site-packages (from pyupbit) (2.22.0)\n",
            "Requirement already satisfied: websockets==9.1 in /home/max/anaconda3/lib/python3.6/site-packages (from pyupbit) (9.1)\n",
            "Requirement already satisfied: pandas in /home/max/anaconda3/lib/python3.6/site-packages (from pyupbit) (1.1.5)\n",
            "Requirement already satisfied: numpy>=1.15.4 in /home/max/anaconda3/lib/python3.6/site-packages (from pandas->pyupbit) (1.19.2)\n",
            "Requirement already satisfied: python-dateutil>=2.7.3 in /home/max/.local/lib/python3.6/site-packages (from pandas->pyupbit) (2.8.1)\n",
            "Requirement already satisfied: pytz>=2017.2 in /home/max/anaconda3/lib/python3.6/site-packages (from pandas->pyupbit) (2019.3)\n",
            "Requirement already satisfied: certifi>=2017.4.17 in /home/max/anaconda3/lib/python3.6/site-packages (from requests->pyupbit) (2020.6.20)\n",
            "Requirement already satisfied: chardet<3.1.0,>=3.0.2 in /home/max/anaconda3/lib/python3.6/site-packages (from requests->pyupbit) (3.0.4)\n",
            "Requirement already satisfied: idna<2.9,>=2.5 in /home/max/anaconda3/lib/python3.6/site-packages (from requests->pyupbit) (2.8)\n",
            "Requirement already satisfied: urllib3!=1.25.0,!=1.25.1,<1.26,>=1.21.1 in /home/max/anaconda3/lib/python3.6/site-packages (from requests->pyupbit) (1.25.11)\n",
            "Requirement already satisfied: six>=1.5 in /home/max/.local/lib/python3.6/site-packages (from python-dateutil>=2.7.3->pandas->pyupbit) (1.15.0)\n"
          ]
        }
      ],
      "source": [
        "!pip install pyupbit"
      ]
    },
    {
      "cell_type": "code",
      "execution_count": 15,
      "metadata": {
        "id": "OPo1hQ62HcxA"
      },
      "outputs": [],
      "source": [
        "import pyupbit"
      ]
    },
    {
      "cell_type": "code",
      "execution_count": 16,
      "metadata": {
        "colab": {
          "base_uri": "https://localhost:8080/",
          "height": 402
        },
        "id": "sjI3ac9tT7D2",
        "outputId": "142ff09e-6574-4dc7-f117-e1c2e565eba1"
      },
      "outputs": [
        {
          "data": {
            "text/html": [
              "<div>\n",
              "<style scoped>\n",
              "    .dataframe tbody tr th:only-of-type {\n",
              "        vertical-align: middle;\n",
              "    }\n",
              "\n",
              "    .dataframe tbody tr th {\n",
              "        vertical-align: top;\n",
              "    }\n",
              "\n",
              "    .dataframe thead th {\n",
              "        text-align: right;\n",
              "    }\n",
              "</style>\n",
              "<table border=\"1\" class=\"dataframe\">\n",
              "  <thead>\n",
              "    <tr style=\"text-align: right;\">\n",
              "      <th></th>\n",
              "      <th>open</th>\n",
              "      <th>high</th>\n",
              "      <th>low</th>\n",
              "      <th>close</th>\n",
              "      <th>volume</th>\n",
              "      <th>value</th>\n",
              "    </tr>\n",
              "  </thead>\n",
              "  <tbody>\n",
              "    <tr>\n",
              "      <th>2021-11-19 17:00:00</th>\n",
              "      <td>69850000.0</td>\n",
              "      <td>71500000.0</td>\n",
              "      <td>69804000.0</td>\n",
              "      <td>70955000.0</td>\n",
              "      <td>727.467770</td>\n",
              "      <td>5.158217e+10</td>\n",
              "    </tr>\n",
              "    <tr>\n",
              "      <th>2021-11-19 18:00:00</th>\n",
              "      <td>70963000.0</td>\n",
              "      <td>71502000.0</td>\n",
              "      <td>70904000.0</td>\n",
              "      <td>70948000.0</td>\n",
              "      <td>374.114230</td>\n",
              "      <td>2.664024e+10</td>\n",
              "    </tr>\n",
              "    <tr>\n",
              "      <th>2021-11-19 19:00:00</th>\n",
              "      <td>70911000.0</td>\n",
              "      <td>70970000.0</td>\n",
              "      <td>70600000.0</td>\n",
              "      <td>70896000.0</td>\n",
              "      <td>274.105810</td>\n",
              "      <td>1.939446e+10</td>\n",
              "    </tr>\n",
              "    <tr>\n",
              "      <th>2021-11-19 20:00:00</th>\n",
              "      <td>70900000.0</td>\n",
              "      <td>71150000.0</td>\n",
              "      <td>70670000.0</td>\n",
              "      <td>71048000.0</td>\n",
              "      <td>236.273539</td>\n",
              "      <td>1.675207e+10</td>\n",
              "    </tr>\n",
              "    <tr>\n",
              "      <th>2021-11-19 21:00:00</th>\n",
              "      <td>71048000.0</td>\n",
              "      <td>71495000.0</td>\n",
              "      <td>70994000.0</td>\n",
              "      <td>71015000.0</td>\n",
              "      <td>341.967987</td>\n",
              "      <td>2.438072e+10</td>\n",
              "    </tr>\n",
              "    <tr>\n",
              "      <th>...</th>\n",
              "      <td>...</td>\n",
              "      <td>...</td>\n",
              "      <td>...</td>\n",
              "      <td>...</td>\n",
              "      <td>...</td>\n",
              "      <td>...</td>\n",
              "    </tr>\n",
              "    <tr>\n",
              "      <th>2021-11-27 20:00:00</th>\n",
              "      <td>69558000.0</td>\n",
              "      <td>69750000.0</td>\n",
              "      <td>69420000.0</td>\n",
              "      <td>69449000.0</td>\n",
              "      <td>127.164096</td>\n",
              "      <td>8.846207e+09</td>\n",
              "    </tr>\n",
              "    <tr>\n",
              "      <th>2021-11-27 21:00:00</th>\n",
              "      <td>69450000.0</td>\n",
              "      <td>69578000.0</td>\n",
              "      <td>69312000.0</td>\n",
              "      <td>69500000.0</td>\n",
              "      <td>191.875908</td>\n",
              "      <td>1.332503e+10</td>\n",
              "    </tr>\n",
              "    <tr>\n",
              "      <th>2021-11-27 22:00:00</th>\n",
              "      <td>69500000.0</td>\n",
              "      <td>69909000.0</td>\n",
              "      <td>69440000.0</td>\n",
              "      <td>69786000.0</td>\n",
              "      <td>171.797537</td>\n",
              "      <td>1.197648e+10</td>\n",
              "    </tr>\n",
              "    <tr>\n",
              "      <th>2021-11-27 23:00:00</th>\n",
              "      <td>69784000.0</td>\n",
              "      <td>69933000.0</td>\n",
              "      <td>69520000.0</td>\n",
              "      <td>69530000.0</td>\n",
              "      <td>154.746407</td>\n",
              "      <td>1.078925e+10</td>\n",
              "    </tr>\n",
              "    <tr>\n",
              "      <th>2021-11-28 00:00:00</th>\n",
              "      <td>69566000.0</td>\n",
              "      <td>69751000.0</td>\n",
              "      <td>69480000.0</td>\n",
              "      <td>69668000.0</td>\n",
              "      <td>109.571183</td>\n",
              "      <td>7.623638e+09</td>\n",
              "    </tr>\n",
              "  </tbody>\n",
              "</table>\n",
              "<p>200 rows × 6 columns</p>\n",
              "</div>"
            ],
            "text/plain": [
              "                           open        high         low       close  \\\n",
              "2021-11-19 17:00:00  69850000.0  71500000.0  69804000.0  70955000.0   \n",
              "2021-11-19 18:00:00  70963000.0  71502000.0  70904000.0  70948000.0   \n",
              "2021-11-19 19:00:00  70911000.0  70970000.0  70600000.0  70896000.0   \n",
              "2021-11-19 20:00:00  70900000.0  71150000.0  70670000.0  71048000.0   \n",
              "2021-11-19 21:00:00  71048000.0  71495000.0  70994000.0  71015000.0   \n",
              "...                         ...         ...         ...         ...   \n",
              "2021-11-27 20:00:00  69558000.0  69750000.0  69420000.0  69449000.0   \n",
              "2021-11-27 21:00:00  69450000.0  69578000.0  69312000.0  69500000.0   \n",
              "2021-11-27 22:00:00  69500000.0  69909000.0  69440000.0  69786000.0   \n",
              "2021-11-27 23:00:00  69784000.0  69933000.0  69520000.0  69530000.0   \n",
              "2021-11-28 00:00:00  69566000.0  69751000.0  69480000.0  69668000.0   \n",
              "\n",
              "                         volume         value  \n",
              "2021-11-19 17:00:00  727.467770  5.158217e+10  \n",
              "2021-11-19 18:00:00  374.114230  2.664024e+10  \n",
              "2021-11-19 19:00:00  274.105810  1.939446e+10  \n",
              "2021-11-19 20:00:00  236.273539  1.675207e+10  \n",
              "2021-11-19 21:00:00  341.967987  2.438072e+10  \n",
              "...                         ...           ...  \n",
              "2021-11-27 20:00:00  127.164096  8.846207e+09  \n",
              "2021-11-27 21:00:00  191.875908  1.332503e+10  \n",
              "2021-11-27 22:00:00  171.797537  1.197648e+10  \n",
              "2021-11-27 23:00:00  154.746407  1.078925e+10  \n",
              "2021-11-28 00:00:00  109.571183  7.623638e+09  \n",
              "\n",
              "[200 rows x 6 columns]"
            ]
          },
          "execution_count": 16,
          "metadata": {},
          "output_type": "execute_result"
        }
      ],
      "source": [
        "#BTC 최근 200시간의 데이터 불러옴\n",
        "df = pyupbit.get_ohlcv(\"KRW-BTC\", interval=\"minute60\")\n",
        "df"
      ]
    },
    {
      "cell_type": "code",
      "execution_count": 17,
      "metadata": {
        "colab": {
          "base_uri": "https://localhost:8080/",
          "height": 402
        },
        "id": "eDaG0GWkVO3N",
        "outputId": "af8c6c98-0b8c-41a9-cb85-0dbea994f230"
      },
      "outputs": [
        {
          "data": {
            "text/html": [
              "<div>\n",
              "<style scoped>\n",
              "    .dataframe tbody tr th:only-of-type {\n",
              "        vertical-align: middle;\n",
              "    }\n",
              "\n",
              "    .dataframe tbody tr th {\n",
              "        vertical-align: top;\n",
              "    }\n",
              "\n",
              "    .dataframe thead th {\n",
              "        text-align: right;\n",
              "    }\n",
              "</style>\n",
              "<table border=\"1\" class=\"dataframe\">\n",
              "  <thead>\n",
              "    <tr style=\"text-align: right;\">\n",
              "      <th></th>\n",
              "      <th>ds</th>\n",
              "      <th>y</th>\n",
              "    </tr>\n",
              "  </thead>\n",
              "  <tbody>\n",
              "    <tr>\n",
              "      <th>0</th>\n",
              "      <td>2021-11-19 17:00:00</td>\n",
              "      <td>70955000.0</td>\n",
              "    </tr>\n",
              "    <tr>\n",
              "      <th>1</th>\n",
              "      <td>2021-11-19 18:00:00</td>\n",
              "      <td>70948000.0</td>\n",
              "    </tr>\n",
              "    <tr>\n",
              "      <th>2</th>\n",
              "      <td>2021-11-19 19:00:00</td>\n",
              "      <td>70896000.0</td>\n",
              "    </tr>\n",
              "    <tr>\n",
              "      <th>3</th>\n",
              "      <td>2021-11-19 20:00:00</td>\n",
              "      <td>71048000.0</td>\n",
              "    </tr>\n",
              "    <tr>\n",
              "      <th>4</th>\n",
              "      <td>2021-11-19 21:00:00</td>\n",
              "      <td>71015000.0</td>\n",
              "    </tr>\n",
              "    <tr>\n",
              "      <th>...</th>\n",
              "      <td>...</td>\n",
              "      <td>...</td>\n",
              "    </tr>\n",
              "    <tr>\n",
              "      <th>195</th>\n",
              "      <td>2021-11-27 20:00:00</td>\n",
              "      <td>69449000.0</td>\n",
              "    </tr>\n",
              "    <tr>\n",
              "      <th>196</th>\n",
              "      <td>2021-11-27 21:00:00</td>\n",
              "      <td>69500000.0</td>\n",
              "    </tr>\n",
              "    <tr>\n",
              "      <th>197</th>\n",
              "      <td>2021-11-27 22:00:00</td>\n",
              "      <td>69786000.0</td>\n",
              "    </tr>\n",
              "    <tr>\n",
              "      <th>198</th>\n",
              "      <td>2021-11-27 23:00:00</td>\n",
              "      <td>69530000.0</td>\n",
              "    </tr>\n",
              "    <tr>\n",
              "      <th>199</th>\n",
              "      <td>2021-11-28 00:00:00</td>\n",
              "      <td>69668000.0</td>\n",
              "    </tr>\n",
              "  </tbody>\n",
              "</table>\n",
              "<p>200 rows × 2 columns</p>\n",
              "</div>"
            ],
            "text/plain": [
              "                     ds           y\n",
              "0   2021-11-19 17:00:00  70955000.0\n",
              "1   2021-11-19 18:00:00  70948000.0\n",
              "2   2021-11-19 19:00:00  70896000.0\n",
              "3   2021-11-19 20:00:00  71048000.0\n",
              "4   2021-11-19 21:00:00  71015000.0\n",
              "..                  ...         ...\n",
              "195 2021-11-27 20:00:00  69449000.0\n",
              "196 2021-11-27 21:00:00  69500000.0\n",
              "197 2021-11-27 22:00:00  69786000.0\n",
              "198 2021-11-27 23:00:00  69530000.0\n",
              "199 2021-11-28 00:00:00  69668000.0\n",
              "\n",
              "[200 rows x 2 columns]"
            ]
          },
          "execution_count": 17,
          "metadata": {},
          "output_type": "execute_result"
        }
      ],
      "source": [
        "#시간(ds)와 종가(y)값만 남김\n",
        "df = df.reset_index()\n",
        "df['ds'] = df['index']\n",
        "df['y'] = df['close']\n",
        "data = df[['ds','y']]\n",
        "data"
      ]
    },
    {
      "cell_type": "code",
      "execution_count": 18,
      "metadata": {
        "id": "NeNx5_hhXbR1"
      },
      "outputs": [],
      "source": [
        "#prophet 불러옴\n",
        "from fbprophet import Prophet"
      ]
    },
    {
      "cell_type": "code",
      "execution_count": 19,
      "metadata": {
        "colab": {
          "base_uri": "https://localhost:8080/"
        },
        "id": "lLe7j7jnVep2",
        "outputId": "c7062e3f-e632-4743-e809-ab993a7ebe2b"
      },
      "outputs": [
        {
          "name": "stderr",
          "output_type": "stream",
          "text": [
            "INFO:fbprophet:Disabling yearly seasonality. Run prophet with yearly_seasonality=True to override this.\n",
            "INFO:fbprophet:Disabling weekly seasonality. Run prophet with weekly_seasonality=True to override this.\n"
          ]
        },
        {
          "data": {
            "text/plain": [
              "<fbprophet.forecaster.Prophet at 0x7f149fb78978>"
            ]
          },
          "execution_count": 19,
          "metadata": {},
          "output_type": "execute_result"
        }
      ],
      "source": [
        "#학습\n",
        "model = Prophet()\n",
        "model.fit(data)"
      ]
    },
    {
      "cell_type": "code",
      "execution_count": 20,
      "metadata": {
        "id": "ylP8nXwEYBxK"
      },
      "outputs": [],
      "source": [
        "#24시간 미래 예측\n",
        "future = model.make_future_dataframe(periods=72, freq='H')\n",
        "forecast = model.predict(future)"
      ]
    },
    {
      "cell_type": "code",
      "execution_count": 21,
      "metadata": {
        "colab": {
          "base_uri": "https://localhost:8080/",
          "height": 441
        },
        "id": "_zzI5o0OXN5H",
        "outputId": "11e9714a-d07d-4c95-dddf-eb24d734b629"
      },
      "outputs": [
        {
          "data": {
            "image/png": "[encoded data removed]",
            "text/plain": [
              "<Figure size 720x432 with 1 Axes>"
            ]
          },
          "metadata": {},
          "output_type": "display_data"
        }
      ],
      "source": [
        "#그래프1\n",
        "fig1 = model.plot(forecast)"
      ]
    },
    {
      "cell_type": "code",
      "execution_count": 22,
      "metadata": {
        "colab": {
          "base_uri": "https://localhost:8080/",
          "height": 441
        },
        "id": "DkVLmIsPXOl6",
        "outputId": "ac9f645a-105b-444c-89ac-11a554e6e082"
      },
      "outputs": [
        {
          "data": {
            "image/png": "[encoded data removed]",
            "text/plain": [
              "<Figure size 648x432 with 2 Axes>"
            ]
          },
          "metadata": {},
          "output_type": "display_data"
        }
      ],
      "source": [
        "#그래프2\n",
        "fig2 = model.plot_components(forecast)"
      ]
    },
    {
      "cell_type": "code",
      "execution_count": 23,
      "metadata": {
        "colab": {
          "base_uri": "https://localhost:8080/"
        },
        "id": "GJgSNaOcr5_t",
        "outputId": "3cf9b79d-94d6-4da8-dac0-24edd0b0c57d"
      },
      "outputs": [
        {
          "data": {
            "text/plain": [
              "69729000.0"
            ]
          },
          "execution_count": 23,
          "metadata": {},
          "output_type": "execute_result"
        }
      ],
      "source": [
        "#매수 시점의 가격\n",
        "nowValue = pyupbit.get_current_price(\"KRW-BTC\")\n",
        "nowValue"
      ]
    },
    {
      "cell_type": "code",
      "execution_count": 24,
      "metadata": {
        "colab": {
          "base_uri": "https://localhost:8080/"
        },
        "id": "SPXCEMj4ma6h",
        "outputId": "1918f82e-5d28-4f0d-cf79-d8c457671d96"
      },
      "outputs": [
        {
          "data": {
            "text/plain": [
              "67659986.88649571"
            ]
          },
          "execution_count": 24,
          "metadata": {},
          "output_type": "execute_result"
        }
      ],
      "source": [
        "#종가의 가격을 구함\n",
        "\n",
        "#현재 시간이 자정 이전\n",
        "closeDf = forecast[forecast['ds'] == forecast.iloc[-1]['ds'].replace(hour=9)]\n",
        "\n",
        "#현재 시간이 자정 이후\n",
        "if len(closeDf) == 0:\n",
        "  closeDf = forecast[forecast['ds'] == data.iloc[-1]['ds'].replace(hour=9)]\n",
        "\n",
        "#어쨋든 당일 종가\n",
        "closeValue = closeDf['yhat'].values[0]\n",
        "closeValue"
      ]
    },
    {
      "cell_type": "code",
      "execution_count": 25,
      "metadata": {
        "colab": {
          "base_uri": "https://localhost:8080/"
        },
        "id": "bUOLBXFNm2cd",
        "outputId": "be8d1c13-ad5a-46ec-bdb7-006098b9057a"
      },
      "outputs": [
        {
          "name": "stdout",
          "output_type": "stream",
          "text": [
            "현재 시점 가격:  69729000.0\n",
            "종가의 가격:  67659986.88649571\n"
          ]
        }
      ],
      "source": [
        "#구체적인 가격\n",
        "print(\"현재 시점 가격: \", nowValue)\n",
        "print(\"종가의 가격: \", closeValue)"
      ]
    },
    {
      "cell_type": "code",
      "execution_count": 26,
      "metadata": {
        "colab": {
          "base_uri": "https://localhost:8080/",
          "height": 758
        },
        "id": "BS_M58SRt94s",
        "outputId": "13b02e67-563d-4956-baf0-8cc58bbc64da"
      },
      "outputs": [
        {
          "data": {
            "text/html": [
              "<div>\n",
              "<style scoped>\n",
              "    .dataframe tbody tr th:only-of-type {\n",
              "        vertical-align: middle;\n",
              "    }\n",
              "\n",
              "    .dataframe tbody tr th {\n",
              "        vertical-align: top;\n",
              "    }\n",
              "\n",
              "    .dataframe thead th {\n",
              "        text-align: right;\n",
              "    }\n",
              "</style>\n",
              "<table border=\"1\" class=\"dataframe\">\n",
              "  <thead>\n",
              "    <tr style=\"text-align: right;\">\n",
              "      <th></th>\n",
              "      <th>ds</th>\n",
              "      <th>trend</th>\n",
              "      <th>yhat_lower</th>\n",
              "      <th>yhat_upper</th>\n",
              "      <th>trend_lower</th>\n",
              "      <th>trend_upper</th>\n",
              "      <th>additive_terms</th>\n",
              "      <th>additive_terms_lower</th>\n",
              "      <th>additive_terms_upper</th>\n",
              "      <th>daily</th>\n",
              "      <th>daily_lower</th>\n",
              "      <th>daily_upper</th>\n",
              "      <th>multiplicative_terms</th>\n",
              "      <th>multiplicative_terms_lower</th>\n",
              "      <th>multiplicative_terms_upper</th>\n",
              "      <th>yhat</th>\n",
              "    </tr>\n",
              "  </thead>\n",
              "  <tbody>\n",
              "    <tr>\n",
              "      <th>0</th>\n",
              "      <td>2021-11-19 17:00:00</td>\n",
              "      <td>7.133835e+07</td>\n",
              "      <td>7.036701e+07</td>\n",
              "      <td>7.193570e+07</td>\n",
              "      <td>7.133835e+07</td>\n",
              "      <td>7.133835e+07</td>\n",
              "      <td>-188310.240360</td>\n",
              "      <td>-188310.240360</td>\n",
              "      <td>-188310.240360</td>\n",
              "      <td>-188310.240360</td>\n",
              "      <td>-188310.240360</td>\n",
              "      <td>-188310.240360</td>\n",
              "      <td>0.0</td>\n",
              "      <td>0.0</td>\n",
              "      <td>0.0</td>\n",
              "      <td>7.115004e+07</td>\n",
              "    </tr>\n",
              "    <tr>\n",
              "      <th>1</th>\n",
              "      <td>2021-11-19 18:00:00</td>\n",
              "      <td>7.138726e+07</td>\n",
              "      <td>7.037325e+07</td>\n",
              "      <td>7.187743e+07</td>\n",
              "      <td>7.138726e+07</td>\n",
              "      <td>7.138726e+07</td>\n",
              "      <td>-296545.905964</td>\n",
              "      <td>-296545.905964</td>\n",
              "      <td>-296545.905964</td>\n",
              "      <td>-296545.905964</td>\n",
              "      <td>-296545.905964</td>\n",
              "      <td>-296545.905964</td>\n",
              "      <td>0.0</td>\n",
              "      <td>0.0</td>\n",
              "      <td>0.0</td>\n",
              "      <td>7.109071e+07</td>\n",
              "    </tr>\n",
              "    <tr>\n",
              "      <th>2</th>\n",
              "      <td>2021-11-19 19:00:00</td>\n",
              "      <td>7.143616e+07</td>\n",
              "      <td>7.031181e+07</td>\n",
              "      <td>7.181817e+07</td>\n",
              "      <td>7.143616e+07</td>\n",
              "      <td>7.143616e+07</td>\n",
              "      <td>-373679.241175</td>\n",
              "      <td>-373679.241175</td>\n",
              "      <td>-373679.241175</td>\n",
              "      <td>-373679.241175</td>\n",
              "      <td>-373679.241175</td>\n",
              "      <td>-373679.241175</td>\n",
              "      <td>0.0</td>\n",
              "      <td>0.0</td>\n",
              "      <td>0.0</td>\n",
              "      <td>7.106248e+07</td>\n",
              "    </tr>\n",
              "    <tr>\n",
              "      <th>3</th>\n",
              "      <td>2021-11-19 20:00:00</td>\n",
              "      <td>7.148506e+07</td>\n",
              "      <td>7.036955e+07</td>\n",
              "      <td>7.196837e+07</td>\n",
              "      <td>7.148506e+07</td>\n",
              "      <td>7.148506e+07</td>\n",
              "      <td>-312964.952010</td>\n",
              "      <td>-312964.952010</td>\n",
              "      <td>-312964.952010</td>\n",
              "      <td>-312964.952010</td>\n",
              "      <td>-312964.952010</td>\n",
              "      <td>-312964.952010</td>\n",
              "      <td>0.0</td>\n",
              "      <td>0.0</td>\n",
              "      <td>0.0</td>\n",
              "      <td>7.117210e+07</td>\n",
              "    </tr>\n",
              "    <tr>\n",
              "      <th>4</th>\n",
              "      <td>2021-11-19 21:00:00</td>\n",
              "      <td>7.153397e+07</td>\n",
              "      <td>7.066704e+07</td>\n",
              "      <td>7.222438e+07</td>\n",
              "      <td>7.153397e+07</td>\n",
              "      <td>7.153397e+07</td>\n",
              "      <td>-115036.601757</td>\n",
              "      <td>-115036.601757</td>\n",
              "      <td>-115036.601757</td>\n",
              "      <td>-115036.601757</td>\n",
              "      <td>-115036.601757</td>\n",
              "      <td>-115036.601757</td>\n",
              "      <td>0.0</td>\n",
              "      <td>0.0</td>\n",
              "      <td>0.0</td>\n",
              "      <td>7.141893e+07</td>\n",
              "    </tr>\n",
              "    <tr>\n",
              "      <th>...</th>\n",
              "      <td>...</td>\n",
              "      <td>...</td>\n",
              "      <td>...</td>\n",
              "      <td>...</td>\n",
              "      <td>...</td>\n",
              "      <td>...</td>\n",
              "      <td>...</td>\n",
              "      <td>...</td>\n",
              "      <td>...</td>\n",
              "      <td>...</td>\n",
              "      <td>...</td>\n",
              "      <td>...</td>\n",
              "      <td>...</td>\n",
              "      <td>...</td>\n",
              "      <td>...</td>\n",
              "      <td>...</td>\n",
              "    </tr>\n",
              "    <tr>\n",
              "      <th>267</th>\n",
              "      <td>2021-11-30 20:00:00</td>\n",
              "      <td>6.163055e+07</td>\n",
              "      <td>5.764831e+07</td>\n",
              "      <td>6.488404e+07</td>\n",
              "      <td>5.802961e+07</td>\n",
              "      <td>6.517659e+07</td>\n",
              "      <td>-312964.952015</td>\n",
              "      <td>-312964.952015</td>\n",
              "      <td>-312964.952015</td>\n",
              "      <td>-312964.952015</td>\n",
              "      <td>-312964.952015</td>\n",
              "      <td>-312964.952015</td>\n",
              "      <td>0.0</td>\n",
              "      <td>0.0</td>\n",
              "      <td>0.0</td>\n",
              "      <td>6.131759e+07</td>\n",
              "    </tr>\n",
              "    <tr>\n",
              "      <th>268</th>\n",
              "      <td>2021-11-30 21:00:00</td>\n",
              "      <td>6.153118e+07</td>\n",
              "      <td>5.772131e+07</td>\n",
              "      <td>6.517927e+07</td>\n",
              "      <td>5.792946e+07</td>\n",
              "      <td>6.517886e+07</td>\n",
              "      <td>-115036.601765</td>\n",
              "      <td>-115036.601765</td>\n",
              "      <td>-115036.601765</td>\n",
              "      <td>-115036.601765</td>\n",
              "      <td>-115036.601765</td>\n",
              "      <td>-115036.601765</td>\n",
              "      <td>0.0</td>\n",
              "      <td>0.0</td>\n",
              "      <td>0.0</td>\n",
              "      <td>6.141614e+07</td>\n",
              "    </tr>\n",
              "    <tr>\n",
              "      <th>269</th>\n",
              "      <td>2021-11-30 22:00:00</td>\n",
              "      <td>6.143180e+07</td>\n",
              "      <td>5.772586e+07</td>\n",
              "      <td>6.525996e+07</td>\n",
              "      <td>5.774607e+07</td>\n",
              "      <td>6.515933e+07</td>\n",
              "      <td>103747.524173</td>\n",
              "      <td>103747.524173</td>\n",
              "      <td>103747.524173</td>\n",
              "      <td>103747.524173</td>\n",
              "      <td>103747.524173</td>\n",
              "      <td>103747.524173</td>\n",
              "      <td>0.0</td>\n",
              "      <td>0.0</td>\n",
              "      <td>0.0</td>\n",
              "      <td>6.153555e+07</td>\n",
              "    </tr>\n",
              "    <tr>\n",
              "      <th>270</th>\n",
              "      <td>2021-11-30 23:00:00</td>\n",
              "      <td>6.133242e+07</td>\n",
              "      <td>5.760931e+07</td>\n",
              "      <td>6.530764e+07</td>\n",
              "      <td>5.752412e+07</td>\n",
              "      <td>6.512329e+07</td>\n",
              "      <td>211384.708383</td>\n",
              "      <td>211384.708383</td>\n",
              "      <td>211384.708383</td>\n",
              "      <td>211384.708383</td>\n",
              "      <td>211384.708383</td>\n",
              "      <td>211384.708383</td>\n",
              "      <td>0.0</td>\n",
              "      <td>0.0</td>\n",
              "      <td>0.0</td>\n",
              "      <td>6.154381e+07</td>\n",
              "    </tr>\n",
              "    <tr>\n",
              "      <th>271</th>\n",
              "      <td>2021-12-01 00:00:00</td>\n",
              "      <td>6.123305e+07</td>\n",
              "      <td>5.746037e+07</td>\n",
              "      <td>6.544685e+07</td>\n",
              "      <td>5.730833e+07</td>\n",
              "      <td>6.511951e+07</td>\n",
              "      <td>174600.744411</td>\n",
              "      <td>174600.744411</td>\n",
              "      <td>174600.744411</td>\n",
              "      <td>174600.744411</td>\n",
              "      <td>174600.744411</td>\n",
              "      <td>174600.744411</td>\n",
              "      <td>0.0</td>\n",
              "      <td>0.0</td>\n",
              "      <td>0.0</td>\n",
              "      <td>6.140765e+07</td>\n",
              "    </tr>\n",
              "  </tbody>\n",
              "</table>\n",
              "<p>272 rows × 16 columns</p>\n",
              "</div>"
            ],
            "text/plain": [
              "                     ds         trend    yhat_lower    yhat_upper  \\\n",
              "0   2021-11-19 17:00:00  7.133835e+07  7.036701e+07  7.193570e+07   \n",
              "1   2021-11-19 18:00:00  7.138726e+07  7.037325e+07  7.187743e+07   \n",
              "2   2021-11-19 19:00:00  7.143616e+07  7.031181e+07  7.181817e+07   \n",
              "3   2021-11-19 20:00:00  7.148506e+07  7.036955e+07  7.196837e+07   \n",
              "4   2021-11-19 21:00:00  7.153397e+07  7.066704e+07  7.222438e+07   \n",
              "..                  ...           ...           ...           ...   \n",
              "267 2021-11-30 20:00:00  6.163055e+07  5.764831e+07  6.488404e+07   \n",
              "268 2021-11-30 21:00:00  6.153118e+07  5.772131e+07  6.517927e+07   \n",
              "269 2021-11-30 22:00:00  6.143180e+07  5.772586e+07  6.525996e+07   \n",
              "270 2021-11-30 23:00:00  6.133242e+07  5.760931e+07  6.530764e+07   \n",
              "271 2021-12-01 00:00:00  6.123305e+07  5.746037e+07  6.544685e+07   \n",
              "\n",
              "      trend_lower   trend_upper  additive_terms  additive_terms_lower  \\\n",
              "0    7.133835e+07  7.133835e+07  -188310.240360        -188310.240360   \n",
              "1    7.138726e+07  7.138726e+07  -296545.905964        -296545.905964   \n",
              "2    7.143616e+07  7.143616e+07  -373679.241175        -373679.241175   \n",
              "3    7.148506e+07  7.148506e+07  -312964.952010        -312964.952010   \n",
              "4    7.153397e+07  7.153397e+07  -115036.601757        -115036.601757   \n",
              "..            ...           ...             ...                   ...   \n",
              "267  5.802961e+07  6.517659e+07  -312964.952015        -312964.952015   \n",
              "268  5.792946e+07  6.517886e+07  -115036.601765        -115036.601765   \n",
              "269  5.774607e+07  6.515933e+07   103747.524173         103747.524173   \n",
              "270  5.752412e+07  6.512329e+07   211384.708383         211384.708383   \n",
              "271  5.730833e+07  6.511951e+07   174600.744411         174600.744411   \n",
              "\n",
              "     additive_terms_upper          daily    daily_lower    daily_upper  \\\n",
              "0          -188310.240360 -188310.240360 -188310.240360 -188310.240360   \n",
              "1          -296545.905964 -296545.905964 -296545.905964 -296545.905964   \n",
              "2          -373679.241175 -373679.241175 -373679.241175 -373679.241175   \n",
              "3          -312964.952010 -312964.952010 -312964.952010 -312964.952010   \n",
              "4          -115036.601757 -115036.601757 -115036.601757 -115036.601757   \n",
              "..                    ...            ...            ...            ...   \n",
              "267        -312964.952015 -312964.952015 -312964.952015 -312964.952015   \n",
              "268        -115036.601765 -115036.601765 -115036.601765 -115036.601765   \n",
              "269         103747.524173  103747.524173  103747.524173  103747.524173   \n",
              "270         211384.708383  211384.708383  211384.708383  211384.708383   \n",
              "271         174600.744411  174600.744411  174600.744411  174600.744411   \n",
              "\n",
              "     multiplicative_terms  multiplicative_terms_lower  \\\n",
              "0                     0.0                         0.0   \n",
              "1                     0.0                         0.0   \n",
              "2                     0.0                         0.0   \n",
              "3                     0.0                         0.0   \n",
              "4                     0.0                         0.0   \n",
              "..                    ...                         ...   \n",
              "267                   0.0                         0.0   \n",
              "268                   0.0                         0.0   \n",
              "269                   0.0                         0.0   \n",
              "270                   0.0                         0.0   \n",
              "271                   0.0                         0.0   \n",
              "\n",
              "     multiplicative_terms_upper          yhat  \n",
              "0                           0.0  7.115004e+07  \n",
              "1                           0.0  7.109071e+07  \n",
              "2                           0.0  7.106248e+07  \n",
              "3                           0.0  7.117210e+07  \n",
              "4                           0.0  7.141893e+07  \n",
              "..                          ...           ...  \n",
              "267                         0.0  6.131759e+07  \n",
              "268                         0.0  6.141614e+07  \n",
              "269                         0.0  6.153555e+07  \n",
              "270                         0.0  6.154381e+07  \n",
              "271                         0.0  6.140765e+07  \n",
              "\n",
              "[272 rows x 16 columns]"
            ]
          },
          "execution_count": 26,
          "metadata": {},
          "output_type": "execute_result"
        }
      ],
      "source": [
        "forecast"
      ]
    },
    {
      "cell_type": "code",
      "execution_count": null,
      "metadata": {
        "id": "JB_UYNJ-uYZr"
      },
      "outputs": [],
      "source": []
    }
  ],
  "metadata": {
    "colab": {
      "authorship_tag": "ABX9TyP5thH85zBWognO/ZVRe6Ve",
      "include_colab_link": true,
      "name": "BTC_predict.ipynb",
      "provenance": []
    },
    "interpreter": {
      "hash": "4632010a9e13d22e5db6181f606bb74cee322bdf2be96a9f982ade689500be32"
    },
    "kernelspec": {
      "display_name": "Python 3.6.10 64-bit ('base': conda)",
      "name": "python3"
    },
    "language_info": {
      "codemirror_mode": {
        "name": "ipython",
        "version": 3
      },
      "file_extension": ".py",
      "mimetype": "text/x-python",
      "name": "python",
      "nbconvert_exporter": "python",
      "pygments_lexer": "ipython3",
      "version": "3.6.10"
    }
  },
  "nbformat": 4,
  "nbformat_minor": 0
}
